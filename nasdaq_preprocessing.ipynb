{
 "cells": [
  {
   "cell_type": "code",
   "execution_count": 110,
   "id": "f456bf0c-ed8f-4607-ab90-34581ffabd9e",
   "metadata": {},
   "outputs": [],
   "source": [
    "import numpy as np\n",
    "import pandas as pd"
   ]
  },
  {
   "cell_type": "code",
   "execution_count": 112,
   "id": "afa69f26-1088-42b6-a109-32e1b036b7fe",
   "metadata": {},
   "outputs": [
    {
     "name": "stdout",
     "output_type": "stream",
     "text": [
      "    indicator        date   value\n",
      "0  USA_NGDP_D  1980-12-31  42.246\n",
      "1  USA_NGDP_D  1981-12-31  46.243\n",
      "2  USA_NGDP_D  1982-12-31  49.100\n",
      "3  USA_NGDP_D  1983-12-31  51.023\n",
      "4  USA_NGDP_D  1984-12-31  52.865\n"
     ]
    }
   ],
   "source": [
    "nasdaq_data = pd.read_csv('imf_nasdaq_dataset.csv')\n",
    "\n",
    "print(nasdaq_data.head())"
   ]
  },
  {
   "cell_type": "code",
   "execution_count": 114,
   "id": "a6daf54e-050e-45a0-aafd-e6f75ee20d0d",
   "metadata": {},
   "outputs": [
    {
     "name": "stdout",
     "output_type": "stream",
     "text": [
      "504112\n"
     ]
    }
   ],
   "source": [
    "print(len(nasdaq_data))"
   ]
  },
  {
   "cell_type": "code",
   "execution_count": 116,
   "id": "0cb8dba0-d110-4dfc-8390-2bfcf589ff41",
   "metadata": {},
   "outputs": [],
   "source": [
    "#check for missing values\n",
    "missing_nasdaq_data = nasdaq_data.isin([\" ?\"])\n",
    "missing_nasdaq_data = missing_nasdaq_data.any(axis=1)"
   ]
  },
  {
   "cell_type": "code",
   "execution_count": 118,
   "id": "ef8a15eb-6faf-4970-8d65-3f2c2bc311e4",
   "metadata": {},
   "outputs": [],
   "source": [
    "nasdaq_data = nasdaq_data.loc[(~missing_nasdaq_data).values, :]\n",
    "nasdaq_data.isin([\" ?\"]).any().any()\n",
    "nasdaq_data = nasdaq_data.dropna()"
   ]
  },
  {
   "cell_type": "code",
   "execution_count": 120,
   "id": "fb668e6c-5497-499d-bb4f-29baa1b63917",
   "metadata": {},
   "outputs": [
    {
     "name": "stdout",
     "output_type": "stream",
     "text": [
      "338085\n"
     ]
    }
   ],
   "source": [
    "print(len(nasdaq_data))"
   ]
  },
  {
   "cell_type": "code",
   "execution_count": 122,
   "id": "74ac2f91-933c-44a7-8e28-7b4fbf380d94",
   "metadata": {},
   "outputs": [],
   "source": [
    "#extract country code and indicator code\n",
    "nasdaq_data['country_code'] = nasdaq_data['indicator'].str[:3]\n",
    "nasdaq_data['indicator_code'] = nasdaq_data['indicator'].str[4:]\n"
   ]
  },
  {
   "cell_type": "code",
   "execution_count": 124,
   "id": "f16c9c38-ae38-4aa6-b269-4ff738a2cfbf",
   "metadata": {},
   "outputs": [],
   "source": [
    "nasdaq_data = nasdaq_data.drop(columns=['indicator'])"
   ]
  },
  {
   "cell_type": "code",
   "execution_count": 126,
   "id": "1c1b0cdb-3d70-4ea2-9719-92c7661d3df9",
   "metadata": {},
   "outputs": [
    {
     "name": "stdout",
     "output_type": "stream",
     "text": [
      "         date   value country_code indicator_code\n",
      "0  1980-12-31  42.246          USA         NGDP_D\n",
      "1  1981-12-31  46.243          USA         NGDP_D\n",
      "2  1982-12-31  49.100          USA         NGDP_D\n",
      "3  1983-12-31  51.023          USA         NGDP_D\n",
      "4  1984-12-31  52.865          USA         NGDP_D\n"
     ]
    }
   ],
   "source": [
    "print(nasdaq_data.head())"
   ]
  },
  {
   "cell_type": "code",
   "execution_count": 128,
   "id": "487b1ee6-2cf7-41b2-8d43-1a7704a907ca",
   "metadata": {},
   "outputs": [
    {
     "name": "stdout",
     "output_type": "stream",
     "text": [
      "  country_code country_name\n",
      "0          ABW        Aruba\n",
      "1          AFG  Afghanistan\n",
      "2          AFR       Africa\n",
      "3          AGO       Angola\n",
      "4          ALB      Albania\n"
     ]
    }
   ],
   "source": [
    "countries = pd.read_csv('country.csv')\n",
    "print(countries.head())"
   ]
  },
  {
   "cell_type": "code",
   "execution_count": 130,
   "id": "ad46bc64-550b-4ba6-b8ee-66fff49878f9",
   "metadata": {},
   "outputs": [
    {
     "name": "stdout",
     "output_type": "stream",
     "text": [
      "                                     indicator_name indicator_code\n",
      "0  Country GDP based on PPP Valuation, USD Billions         PPPGDP\n",
      "1                 Current Account Balance, % of GDP      BCA_NGDPD\n",
      "2             Current Account Balance, USD Billions            BCA\n",
      "3                              Employment, Millions             LE\n",
      "4           Exports of Goods and services, % change        TX_RPCH\n"
     ]
    }
   ],
   "source": [
    "indicators = pd.read_csv('IMF_indicators.csv')\n",
    "print(indicators.head())"
   ]
  },
  {
   "cell_type": "code",
   "execution_count": 132,
   "id": "929a45d6-f525-4a9e-9198-6b91eafc4290",
   "metadata": {},
   "outputs": [
    {
     "name": "stdout",
     "output_type": "stream",
     "text": [
      "['UVK', 'FAD', 'WBG', 'FR_', 'EUR', 'OAE', 'OEM', 'TWN', 'WOR', 'EU_', 'AS5', 'EDE', 'DA_', 'WE_', 'NRU', 'MEC']\n"
     ]
    }
   ],
   "source": [
    "nasdaq_countries = nasdaq_data[\"country_code\"].unique()\n",
    "all_countries = countries[\"country_code\"].unique()\n",
    "\n",
    "#outlier values\n",
    "invalid = list(set(nasdaq_countries) - set(all_countries))\n",
    "print(invalid)"
   ]
  },
  {
   "cell_type": "code",
   "execution_count": 134,
   "id": "50951549-9a53-4ac2-b84a-dd5fed14ac77",
   "metadata": {},
   "outputs": [],
   "source": [
    "#drop invalid country codes\n",
    "nasdaq_data = nasdaq_data[~nasdaq_data['country_code'].isin(invalid)]"
   ]
  },
  {
   "cell_type": "code",
   "execution_count": 140,
   "id": "9d1900ae-31dc-4c48-abd2-cbe11f08ca71",
   "metadata": {},
   "outputs": [],
   "source": [
    "#strip column headers for postgres"
   ]
  },
  {
   "cell_type": "code",
   "execution_count": 136,
   "id": "1c1f2f7d-f01d-4eb1-87f1-78043ab5ac5c",
   "metadata": {},
   "outputs": [],
   "source": [
    "nasdaq_data = nasdaq_data.values\n",
    "nasdaq_data = pd.DataFrame(nasdaq_data)\n",
    "nasdaq_data.to_csv(\"nasdaq_data_cleaned.csv\", index=False, header=False)"
   ]
  },
  {
   "cell_type": "code",
   "execution_count": 138,
   "id": "19e40e1f-93fa-4394-88eb-e1203c7932bf",
   "metadata": {},
   "outputs": [],
   "source": [
    "countries = countries.values\n",
    "countries = pd.DataFrame(countries)\n",
    "countries.to_csv(\"countries.csv\", index=False, header=False)"
   ]
  },
  {
   "cell_type": "code",
   "execution_count": 142,
   "id": "417dae83-3c54-4086-828e-d2fe414eef5a",
   "metadata": {},
   "outputs": [],
   "source": [
    "indicators = pd.read_csv('IMF_indicators.csv')\n",
    "indicators = indicators.values\n",
    "indicators = pd.DataFrame(indicators)\n",
    "indicators.to_csv(\"IMF_indicators.csv\", index=False, header=False)"
   ]
  },
  {
   "cell_type": "code",
   "execution_count": null,
   "id": "f01f3a01-bc68-4760-8fac-95179be92063",
   "metadata": {},
   "outputs": [],
   "source": []
  }
 ],
 "metadata": {
  "kernelspec": {
   "display_name": "Python 3 (ipykernel)",
   "language": "python",
   "name": "python3"
  },
  "language_info": {
   "codemirror_mode": {
    "name": "ipython",
    "version": 3
   },
   "file_extension": ".py",
   "mimetype": "text/x-python",
   "name": "python",
   "nbconvert_exporter": "python",
   "pygments_lexer": "ipython3",
   "version": "3.11.5"
  }
 },
 "nbformat": 4,
 "nbformat_minor": 5
}
